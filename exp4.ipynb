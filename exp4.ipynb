{
 "cells": [
  {
   "cell_type": "code",
   "execution_count": 1,
   "id": "40c2eac7-d511-4026-9668-eb912cb9798a",
   "metadata": {},
   "outputs": [
    {
     "name": "stdout",
     "output_type": "stream",
     "text": [
      "       age          job marital            education  default  housing  loan  \\\n",
      "0       56    housemaid       1             basic.4y        0        0     0   \n",
      "1       57     services       1          high.school        0        0     0   \n",
      "2       37     services       1          high.school        0        1     0   \n",
      "3       40       admin.       1             basic.6y        0        0     0   \n",
      "4       56     services       1          high.school        0        0     1   \n",
      "...    ...          ...     ...                  ...      ...      ...   ...   \n",
      "41183   47      retired       1  professional.course        0        1     0   \n",
      "41184   46  blue-collar       1  professional.course        0        0     0   \n",
      "41185   56      retired       1    university.degree        0        1     0   \n",
      "41186   44   technician       1  professional.course        0        0     0   \n",
      "41187   47      retired       1  professional.course        0        1     0   \n",
      "\n",
      "         contact month day_of_week  duration  campaign  pdays  previous  \\\n",
      "0      telephone   may         mon       261         1    999         0   \n",
      "1      telephone   may         mon       149         1    999         0   \n",
      "2      telephone   may         mon       226         1    999         0   \n",
      "3      telephone   may         mon       151         1    999         0   \n",
      "4      telephone   may         mon       307         1    999         0   \n",
      "...          ...   ...         ...       ...       ...    ...       ...   \n",
      "41183   cellular   nov         fri       334         1    999         0   \n",
      "41184   cellular   nov         fri       383         1    999         0   \n",
      "41185   cellular   nov         fri       189         2    999         0   \n",
      "41186   cellular   nov         fri       442         1    999         0   \n",
      "41187   cellular   nov         fri       239         3    999         1   \n",
      "\n",
      "          poutcome  y  \n",
      "0      nonexistent  0  \n",
      "1      nonexistent  0  \n",
      "2      nonexistent  0  \n",
      "3      nonexistent  0  \n",
      "4      nonexistent  0  \n",
      "...            ... ..  \n",
      "41183  nonexistent  1  \n",
      "41184  nonexistent  0  \n",
      "41185  nonexistent  0  \n",
      "41186  nonexistent  1  \n",
      "41187      failure  0  \n",
      "\n",
      "[41188 rows x 16 columns]\n"
     ]
    }
   ],
   "source": [
    "import pandas as pd\n",
    "import matplotlib.pyplot as plt\n",
    "\n",
    "bank_dataset = pd.read_csv('./exp3-new.csv')\n",
    "print(bank_dataset)"
   ]
  },
  {
   "cell_type": "code",
   "execution_count": 2,
   "id": "f88da60b",
   "metadata": {},
   "outputs": [
    {
     "name": "stdout",
     "output_type": "stream",
     "text": [
      "   age  job  marital  education  default  housing  loan  contact  month  \\\n",
      "0   56    3        1          0        0        0     0        1      6   \n",
      "1   57    7        1          3        0        0     0        1      6   \n",
      "2   37    7        1          3        0        1     0        1      6   \n",
      "3   40    0        1          1        0        0     0        1      6   \n",
      "4   56    7        1          3        0        0     1        1      6   \n",
      "\n",
      "   day_of_week  duration  campaign  pdays  previous  poutcome  y  \n",
      "0            1       261         1    999         0         1  0  \n",
      "1            1       149         1    999         0         1  0  \n",
      "2            1       226         1    999         0         1  0  \n",
      "3            1       151         1    999         0         1  0  \n",
      "4            1       307         1    999         0         1  0  \n"
     ]
    }
   ],
   "source": [
    "from sklearn.preprocessing import LabelEncoder\n",
    "\n",
    "# Assuming bank_dataset is your DataFrame\n",
    "\n",
    "# Initialize LabelEncoder\n",
    "label_encoder = LabelEncoder()\n",
    "\n",
    "# Iterate through each column\n",
    "for column in bank_dataset.columns:\n",
    "    # Check if the column datatype is object (i.e., string)\n",
    "    if bank_dataset[column].dtype == 'object':\n",
    "        # Use LabelEncoder to convert the string values into numeric data\n",
    "        bank_dataset[column] = label_encoder.fit_transform(bank_dataset[column])\n",
    "\n",
    "print(bank_dataset.head())"
   ]
  },
  {
   "cell_type": "code",
   "execution_count": 3,
   "id": "dd63a7a3-9ff9-4763-ae03-1e7e60362457",
   "metadata": {},
   "outputs": [
    {
     "name": "stdout",
     "output_type": "stream",
     "text": [
      "   age  age_normalized\n",
      "0   56        1.690550\n",
      "1   57        1.794158\n",
      "2   37       -0.278011\n",
      "3   40        0.032815\n",
      "4   56        1.690550\n"
     ]
    }
   ],
   "source": [
    "bank_dataset_copy = bank_dataset\n",
    "\n",
    "mean_age = bank_dataset_copy['age'].mean()\n",
    "std_age = bank_dataset_copy['age'].std()\n",
    "\n",
    "bank_dataset_copy['age_normalized'] = (bank_dataset_copy['age'] - mean_age) / std_age\n",
    "\n",
    "print(bank_dataset_copy[['age', 'age_normalized']].head())\n"
   ]
  },
  {
   "cell_type": "code",
   "execution_count": 4,
   "id": "c37f6587-7e0e-4e1d-85f9-80ed6f31cadc",
   "metadata": {},
   "outputs": [
    {
     "data": {
      "image/png": "[encoded data removed]",
      "text/plain": [
       "<Figure size 1200x600 with 2 Axes>"
      ]
     },
     "metadata": {},
     "output_type": "display_data"
    }
   ],
   "source": [
    "import matplotlib.pyplot as plt\n",
    "\n",
    "# Plot histograms of the original 'age' attribute and the normalized 'age_normalized' attribute\n",
    "plt.figure(figsize=(12, 6))\n",
    "\n",
    "# Plot histogram of the original 'age' attribute\n",
    "plt.subplot(1, 2, 1)\n",
    "plt.hist(bank_dataset_copy['age'], bins=20, color='blue', alpha=0.7)\n",
    "plt.title('Histogram of Age')\n",
    "plt.xlabel('Age')\n",
    "plt.ylabel('Frequency')\n",
    "\n",
    "# Plot histogram of the normalized 'age_normalized' attribute\n",
    "plt.subplot(1, 2, 2)\n",
    "plt.hist(bank_dataset_copy['age_normalized'], bins=20, color='green', alpha=0.7)\n",
    "plt.title('Histogram of Age (Normalized)')\n",
    "plt.xlabel('Normalized Age')\n",
    "plt.ylabel('Frequency')\n",
    "\n",
    "plt.tight_layout()\n",
    "plt.show()\n"
   ]
  },
  {
   "cell_type": "code",
   "execution_count": 5,
   "id": "36eaa357-804f-4be2-82be-2b98cdde83e1",
   "metadata": {},
   "outputs": [],
   "source": [
    "bank_dataset_copy.to_csv('exp4.csv', header = True, index = False)"
   ]
  },
  {
   "cell_type": "code",
   "execution_count": null,
   "id": "ab45c5ea-d9a6-41d5-be8c-3adc204dcb85",
   "metadata": {},
   "outputs": [],
   "source": []
  }
 ],
 "metadata": {
  "kernelspec": {
   "display_name": "Python 3 (ipykernel)",
   "language": "python",
   "name": "python3"
  },
  "language_info": {
   "codemirror_mode": {
    "name": "ipython",
    "version": 3
   },
   "file_extension": ".py",
   "mimetype": "text/x-python",
   "name": "python",
   "nbconvert_exporter": "python",
   "pygments_lexer": "ipython3",
   "version": "3.12.2"
  }
 },
 "nbformat": 4,
 "nbformat_minor": 5
}
