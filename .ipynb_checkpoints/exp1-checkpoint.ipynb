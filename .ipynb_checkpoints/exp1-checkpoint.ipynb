{
 "cells": [
  {
   "cell_type": "code",
   "execution_count": 1,
   "metadata": {},
   "outputs": [
    {
     "name": "stdout",
     "output_type": "stream",
     "text": [
      "   age        job  marital    education  default housing loan    contact  \\\n",
      "0   56  housemaid  married     basic.4y       no      no   no  telephone   \n",
      "1   57   services  married  high.school  unknown      no   no  telephone   \n",
      "2   37   services  married  high.school       no     yes   no  telephone   \n",
      "3   40     admin.  married     basic.6y       no      no   no  telephone   \n",
      "4   56   services  married  high.school       no      no  yes  telephone   \n",
      "\n",
      "  month day_of_week  duration  campaign  pdays  previous     poutcome   y  \n",
      "0   may         mon       261         1    999         0  nonexistent  no  \n",
      "1   may         mon       149         1    999         0  nonexistent  no  \n",
      "2   may         mon       226         1    999         0  nonexistent  no  \n",
      "3   may         mon       151         1    999         0  nonexistent  no  \n",
      "4   may         mon       307         1    999         0  nonexistent  no  \n"
     ]
    }
   ],
   "source": [
    "import pandas as pd\n",
    "pd.set_option('future.no_silent_downcasting', True)\n",
    "bank_dataset = pd.read_csv('bank-data.csv')\n",
    "print(bank_dataset.head())"
   ]
  },
  {
   "cell_type": "code",
   "execution_count": 2,
   "metadata": {},
   "outputs": [
    {
     "name": "stdout",
     "output_type": "stream",
     "text": [
      "(41188, 16)\n"
     ]
    }
   ],
   "source": [
    "print(bank_dataset.shape)"
   ]
  },
  {
   "cell_type": "code",
   "execution_count": 3,
   "metadata": {},
   "outputs": [
    {
     "name": "stdout",
     "output_type": "stream",
     "text": [
      "['age', 'job', 'marital', 'education', 'default', 'housing', 'loan', 'contact', 'month', 'day_of_week', 'duration', 'campaign', 'pdays', 'previous', 'poutcome', 'y']\n"
     ]
    }
   ],
   "source": [
    "columns = list(bank_dataset.columns)\n",
    "print(columns)"
   ]
  },
  {
   "cell_type": "code",
   "execution_count": 4,
   "metadata": {},
   "outputs": [
    {
     "name": "stdout",
     "output_type": "stream",
     "text": [
      "Column datatypes: \n",
      "age             int64\n",
      "job            object\n",
      "marital        object\n",
      "education      object\n",
      "default        object\n",
      "housing        object\n",
      "loan           object\n",
      "contact        object\n",
      "month          object\n",
      "day_of_week    object\n",
      "duration        int64\n",
      "campaign        int64\n",
      "pdays           int64\n",
      "previous        int64\n",
      "poutcome       object\n",
      "y              object\n",
      "dtype: object\n"
     ]
    }
   ],
   "source": [
    "print(\"Column datatypes: \")\n",
    "print(bank_dataset.dtypes)"
   ]
  },
  {
   "cell_type": "code",
   "execution_count": 5,
   "metadata": {},
   "outputs": [
    {
     "name": "stdout",
     "output_type": "stream",
     "text": [
      "               age      duration      campaign         pdays      previous\n",
      "count  41188.00000  41188.000000  41188.000000  41188.000000  41188.000000\n",
      "mean      40.02406    258.285010      2.567593    962.475454      0.172963\n",
      "std       10.42125    259.279249      2.770014    186.910907      0.494901\n",
      "min       17.00000      0.000000      1.000000      0.000000      0.000000\n",
      "25%       32.00000    102.000000      1.000000    999.000000      0.000000\n",
      "50%       38.00000    180.000000      2.000000    999.000000      0.000000\n",
      "75%       47.00000    319.000000      3.000000    999.000000      0.000000\n",
      "max       98.00000   4918.000000     56.000000    999.000000      7.000000\n"
     ]
    }
   ],
   "source": [
    "print(bank_dataset.describe()) "
   ]
  },
  {
   "cell_type": "code",
   "execution_count": 6,
   "metadata": {},
   "outputs": [
    {
     "name": "stdout",
     "output_type": "stream",
     "text": [
      "<class 'pandas.core.frame.DataFrame'>\n",
      "RangeIndex: 41188 entries, 0 to 41187\n",
      "Data columns (total 16 columns):\n",
      " #   Column       Non-Null Count  Dtype \n",
      "---  ------       --------------  ----- \n",
      " 0   age          41188 non-null  int64 \n",
      " 1   job          41188 non-null  object\n",
      " 2   marital      41188 non-null  object\n",
      " 3   education    41188 non-null  object\n",
      " 4   default      41188 non-null  object\n",
      " 5   housing      41188 non-null  object\n",
      " 6   loan         41188 non-null  object\n",
      " 7   contact      41188 non-null  object\n",
      " 8   month        41188 non-null  object\n",
      " 9   day_of_week  41188 non-null  object\n",
      " 10  duration     41188 non-null  int64 \n",
      " 11  campaign     41188 non-null  int64 \n",
      " 12  pdays        41188 non-null  int64 \n",
      " 13  previous     41188 non-null  int64 \n",
      " 14  poutcome     41188 non-null  object\n",
      " 15  y            41188 non-null  object\n",
      "dtypes: int64(5), object(11)\n",
      "memory usage: 5.0+ MB\n",
      "None\n"
     ]
    }
   ],
   "source": [
    "print(bank_dataset.info()) "
   ]
  },
  {
   "cell_type": "code",
   "execution_count": 7,
   "metadata": {},
   "outputs": [
    {
     "name": "stdout",
     "output_type": "stream",
     "text": [
      "age            0\n",
      "job            0\n",
      "marital        0\n",
      "education      0\n",
      "default        0\n",
      "housing        0\n",
      "loan           0\n",
      "contact        0\n",
      "month          0\n",
      "day_of_week    0\n",
      "duration       0\n",
      "campaign       0\n",
      "pdays          0\n",
      "previous       0\n",
      "poutcome       0\n",
      "y              0\n",
      "dtype: int64\n"
     ]
    }
   ],
   "source": [
    "print(bank_dataset.isnull().sum()) \n"
   ]
  },
  {
   "cell_type": "code",
   "execution_count": 8,
   "metadata": {},
   "outputs": [
    {
     "name": "stdout",
     "output_type": "stream",
     "text": [
      "Housing: 990\n",
      "Loan: 990\n",
      "Job: 330\n",
      "Marital: 80\n",
      "Education: 1731\n",
      "Default: 8597\n",
      "Contact: 0\n",
      "Month: 0\n",
      "Day_of_week: 0\n",
      "Poutcome: 0\n",
      "Y: 0\n"
     ]
    }
   ],
   "source": [
    "def countUnknownValues(y):\n",
    "    count = 0\n",
    "    for x in bank_dataset[y]:\n",
    "        if x == \"unknown\":\n",
    "            count = count  + 1\n",
    "    return count\n",
    "\n",
    "\n",
    "\n",
    "print(f'Housing: {countUnknownValues(\"housing\")}\\nLoan: {countUnknownValues(\"loan\")}\\nJob: {countUnknownValues(\"job\")}\\nMarital: {countUnknownValues(\"marital\")}\\nEducation: {countUnknownValues(\"education\")}\\nDefault: {countUnknownValues(\"default\")}\\nContact: {countUnknownValues(\"contact\")}\\nMonth: {countUnknownValues(\"month\")}\\nDay_of_week: {countUnknownValues(\"day_of_week\")}\\nPoutcome: {countUnknownValues(\"poutcome\")}\\nY: {countUnknownValues(\"y\")}')\n"
   ]
  },
  {
   "cell_type": "code",
   "execution_count": 9,
   "metadata": {},
   "outputs": [],
   "source": [
    "def replace_unknown_with_mode(column_name):\n",
    "    mode_value = bank_dataset[column_name].mode()[0]\n",
    "    bank_dataset.replace({column_name: \"unknown\"}, mode_value, inplace=True)\n",
    "\n",
    "\n",
    "replace_unknown_with_mode(\"job\")\n",
    "replace_unknown_with_mode(\"marital\")\n",
    "replace_unknown_with_mode(\"education\")\n",
    "replace_unknown_with_mode(\"default\")\n",
    "replace_unknown_with_mode(\"housing\")\n",
    "replace_unknown_with_mode(\"loan\")"
   ]
  },
  {
   "cell_type": "code",
   "execution_count": 10,
   "metadata": {},
   "outputs": [
    {
     "name": "stdout",
     "output_type": "stream",
     "text": [
      "Housing: 0\n",
      "Loan: 0\n",
      "Job: 0\n",
      "Marital: 0\n",
      "Education: 0\n",
      "Default: 0\n",
      "Contact: 0\n",
      "Month: 0\n",
      "Day_of_week: 0\n",
      "Poutcome: 0\n",
      "Y: 0\n"
     ]
    }
   ],
   "source": [
    "def countUnknownValues(y):\n",
    "    count = 0\n",
    "    for x in bank_dataset[y]:\n",
    "        if x == \"unknown\":\n",
    "            count = count  + 1\n",
    "    return count\n",
    "\n",
    "\n",
    "\n",
    "print(f'Housing: {countUnknownValues(\"housing\")}\\nLoan: {countUnknownValues(\"loan\")}\\nJob: {countUnknownValues(\"job\")}\\nMarital: {countUnknownValues(\"marital\")}\\nEducation: {countUnknownValues(\"education\")}\\nDefault: {countUnknownValues(\"default\")}\\nContact: {countUnknownValues(\"contact\")}\\nMonth: {countUnknownValues(\"month\")}\\nDay_of_week: {countUnknownValues(\"day_of_week\")}\\nPoutcome: {countUnknownValues(\"poutcome\")}\\nY: {countUnknownValues(\"y\")}')\n"
   ]
  },
  {
   "cell_type": "code",
   "execution_count": 11,
   "metadata": {},
   "outputs": [
    {
     "name": "stdout",
     "output_type": "stream",
     "text": [
      "Replaced Successfully\n",
      "Replaced Successfully\n",
      "Replaced Successfully\n",
      "Replaced Successfully\n"
     ]
    }
   ],
   "source": [
    "\n",
    "def replaceWithBinaryValues(column_name):\n",
    "    bank_dataset.replace({column_name: {\"yes\": 1, \"no\": 0}}, inplace = True)\n",
    "\n",
    "columns = [\"housing\", \"loan\", \"default\", \"y\"]\n",
    "\n",
    "for x in columns:\n",
    "    replaceWithBinaryValues(x)\n",
    "    print(f'Replaced Successfully')"
   ]
  },
  {
   "cell_type": "code",
   "execution_count": 12,
   "metadata": {
    "scrolled": true
   },
   "outputs": [
    {
     "name": "stdout",
     "output_type": "stream",
     "text": [
      "   age        job  marital    education default housing loan    contact month  \\\n",
      "0   56  housemaid  married     basic.4y       0       0    0  telephone   may   \n",
      "1   57   services  married  high.school       0       0    0  telephone   may   \n",
      "2   37   services  married  high.school       0       1    0  telephone   may   \n",
      "3   40     admin.  married     basic.6y       0       0    0  telephone   may   \n",
      "4   56   services  married  high.school       0       0    1  telephone   may   \n",
      "\n",
      "  day_of_week  duration  campaign  pdays  previous     poutcome  y  \n",
      "0         mon       261         1    999         0  nonexistent  0  \n",
      "1         mon       149         1    999         0  nonexistent  0  \n",
      "2         mon       226         1    999         0  nonexistent  0  \n",
      "3         mon       151         1    999         0  nonexistent  0  \n",
      "4         mon       307         1    999         0  nonexistent  0  \n"
     ]
    }
   ],
   "source": [
    "print(bank_dataset.head())"
   ]
  },
  {
   "cell_type": "markdown",
   "metadata": {},
   "source": [
    "bank_dataset['education'] = bank_dataset['education'].replace({'primary': 0, 'secondary': 1, 'tertiary': 2, 'unknown': 3})\n",
    "\n",
    "bank_dataset['marital'] = bank_dataset['marital'].replace({'married': 1, 'single': 0, \"divorced\": 2})\n",
    "\n",
    "bank_dataset['month'] = bank_dataset['month'].replace({'mar': 3, 'apr': 4, '})\n",
    "print(bank_dataset.head())\n"
   ]
  },
  {
   "cell_type": "code",
   "execution_count": 14,
   "metadata": {},
   "outputs": [],
   "source": [
    "# def convertToCsv(dataset,filename):\n",
    "#     dataset.to_csv(filename, header = True, index = False)\n",
    "\n",
    "# convertToCsv(bank_dataset, \"exp1.csv\")"
   ]
  },
  {
   "cell_type": "code",
   "execution_count": 16,
   "metadata": {},
   "outputs": [
    {
     "name": "stdout",
     "output_type": "stream",
     "text": [
      "True\n",
      "0        False\n",
      "1        False\n",
      "2        False\n",
      "3        False\n",
      "4        False\n",
      "         ...  \n",
      "41183    False\n",
      "41184    False\n",
      "41185    False\n",
      "41186    False\n",
      "41187    False\n",
      "Length: 41188, dtype: bool\n",
      "(41188, 16)\n"
     ]
    }
   ],
   "source": [
    "# #Checking for duplicates\n",
    "new_df = bank_dataset\n",
    "print(new_df.duplicated().any()) \n",
    "print(new_df.duplicated())\n",
    "print(new_df.shape) "
   ]
  },
  {
   "cell_type": "code",
   "execution_count": 20,
   "metadata": {},
   "outputs": [
    {
     "name": "stdout",
     "output_type": "stream",
     "text": [
      "Column name: age : [56 57 37 40 45 59 41 24 25 29 35 54 46 50 39 30 55 49 34 52 58 32 38 44\n",
      " 42 60 53 47 51 48 33 31 43 36 28 27 26 22 23 20 21 61 19 18 70 66 76 67\n",
      " 73 88 95 77 68 75 63 80 62 65 72 82 64 71 69 78 85 79 83 81 74 17 87 91\n",
      " 86 98 94 84 92 89]\n",
      "\n",
      "\n",
      "Column name: job : ['housemaid' 'services' 'admin.' 'blue-collar' 'technician' 'retired'\n",
      " 'management' 'unemployed' 'self-employed' 'entrepreneur' 'student']\n",
      "\n",
      "\n",
      "Column name: marital : [1 0 2]\n",
      "\n",
      "\n",
      "Column name: education : ['basic.4y' 'high.school' 'basic.6y' 'basic.9y' 'professional.course'\n",
      " 'university.degree' 'illiterate']\n",
      "\n",
      "\n",
      "Column name: default : [0 1]\n",
      "\n",
      "\n",
      "Column name: housing : [0 1]\n",
      "\n",
      "\n",
      "Column name: loan : [0 1]\n",
      "\n",
      "\n",
      "Column name: contact : ['telephone' 'cellular']\n",
      "\n",
      "\n",
      "Column name: month : ['may' 'jun' 'jul' 'aug' 'oct' 'nov' 'dec' 'mar' 'apr' 'sep']\n",
      "\n",
      "\n",
      "Column name: day_of_week : ['mon' 'tue' 'wed' 'thu' 'fri']\n",
      "\n",
      "\n",
      "Column name: duration : [ 261  149  226 ... 1246 1556 1868]\n",
      "\n",
      "\n",
      "Column name: campaign : [ 1  2  3  4  5  6  7  8  9 10 11 12 13 19 18 23 14 22 25 16 17 15 20 56\n",
      " 39 35 42 28 26 27 32 21 24 29 31 30 41 37 40 33 34 43]\n",
      "\n",
      "\n",
      "Column name: pdays : [999   6   4   3   5   1   0  10   7   8   9  11   2  12  13  14  15  16\n",
      "  21  17  18  22  25  26  19  27  20]\n",
      "\n",
      "\n",
      "Column name: previous : [0 1 2 3 4 5 6 7]\n",
      "\n",
      "\n",
      "Column name: poutcome : ['nonexistent' 'failure' 'success']\n",
      "\n",
      "\n",
      "Column name: y : [0 1]\n",
      "\n",
      "\n"
     ]
    }
   ],
   "source": [
    "for x in new_df.columns:\n",
    "    print(f'Column name: {x} : {new_df[x].unique()}')\n",
    "    print(\"\\n\")"
   ]
  },
  {
   "cell_type": "code",
   "execution_count": null,
   "metadata": {},
   "outputs": [],
   "source": []
  }
 ],
 "metadata": {
  "kernelspec": {
   "display_name": "Python 3 (ipykernel)",
   "language": "python",
   "name": "python3"
  },
  "language_info": {
   "codemirror_mode": {
    "name": "ipython",
    "version": 3
   },
   "file_extension": ".py",
   "mimetype": "text/x-python",
   "name": "python",
   "nbconvert_exporter": "python",
   "pygments_lexer": "ipython3",
   "version": "3.12.2"
  }
 },
 "nbformat": 4,
 "nbformat_minor": 4
}
