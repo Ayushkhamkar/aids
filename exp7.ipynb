{
 "cells": [
  {
   "cell_type": "code",
   "execution_count": 1,
   "metadata": {},
   "outputs": [
    {
     "name": "stdout",
     "output_type": "stream",
     "text": [
      "   age  job  marital  education  default  housing  loan  contact  month  \\\n",
      "0   56    3        1          0        0        0     0        1      6   \n",
      "1   57    7        1          3        0        0     0        1      6   \n",
      "2   37    7        1          3        0        1     0        1      6   \n",
      "3   40    0        1          1        0        0     0        1      6   \n",
      "4   56    7        1          3        0        0     1        1      6   \n",
      "\n",
      "   day_of_week  duration  campaign  pdays  previous  poutcome  y  \\\n",
      "0            1       261         1    999         0         1  0   \n",
      "1            1       149         1    999         0         1  0   \n",
      "2            1       226         1    999         0         1  0   \n",
      "3            1       151         1    999         0         1  0   \n",
      "4            1       307         1    999         0         1  0   \n",
      "\n",
      "   age_normalized  \n",
      "0        1.690550  \n",
      "1        1.794158  \n",
      "2       -0.278011  \n",
      "3        0.032815  \n",
      "4        1.690550  \n"
     ]
    }
   ],
   "source": [
    "import pandas as pd\n",
    "\n",
    "bank_dataset = pd.read_csv('exp5.csv')\n",
    "\n",
    "print(bank_dataset.head())"
   ]
  },
  {
   "cell_type": "code",
   "execution_count": 2,
   "metadata": {},
   "outputs": [
    {
     "name": "stdout",
     "output_type": "stream",
     "text": [
      "   age  job  marital  education  default  housing  loan  contact  month  \\\n",
      "0   56    3        1          0        0        0     0        1      6   \n",
      "1   57    7        1          3        0        0     0        1      6   \n",
      "2   37    7        1          3        0        1     0        1      6   \n",
      "3   40    0        1          1        0        0     0        1      6   \n",
      "4   56    7        1          3        0        0     1        1      6   \n",
      "\n",
      "   day_of_week  duration  campaign  pdays  previous  poutcome  y  \\\n",
      "0            1       261         1    999         0         1  0   \n",
      "1            1       149         1    999         0         1  0   \n",
      "2            1       226         1    999         0         1  0   \n",
      "3            1       151         1    999         0         1  0   \n",
      "4            1       307         1    999         0         1  0   \n",
      "\n",
      "   age_normalized  \n",
      "0        1.690550  \n",
      "1        1.794158  \n",
      "2       -0.278011  \n",
      "3        0.032815  \n",
      "4        1.690550  \n"
     ]
    }
   ],
   "source": [
    "dummy_dataset = bank_dataset.copy()\n",
    "\n",
    "print(dummy_dataset.head())"
   ]
  },
  {
   "cell_type": "code",
   "execution_count": 7,
   "metadata": {},
   "outputs": [
    {
     "data": {
      "text/plain": [
       "0    1.690550\n",
       "1    1.794158\n",
       "2   -0.278011\n",
       "3    0.032815\n",
       "4    1.690550\n",
       "Name: age_normalized, dtype: float64"
      ]
     },
     "execution_count": 7,
     "metadata": {},
     "output_type": "execute_result"
    }
   ],
   "source": [
    "from scipy import  stats\n",
    "\n",
    "data = bank_dataset['age_normalized']\n",
    "\n",
    "data.head()\n"
   ]
  },
  {
   "cell_type": "code",
   "execution_count": 8,
   "metadata": {},
   "outputs": [
    {
     "data": {
      "text/plain": [
       "TtestResult(statistic=-3.9761067490138844, pvalue=7.012001456212137e-05, df=73095)"
      ]
     },
     "execution_count": 8,
     "metadata": {},
     "output_type": "execute_result"
    }
   ],
   "source": [
    "stats.ttest_1samp(data, 0) "
   ]
  },
  {
   "cell_type": "code",
   "execution_count": 9,
   "metadata": {},
   "outputs": [
    {
     "data": {
      "text/plain": [
       "TtestResult(statistic=-255.89491914348235, pvalue=0.0, df=73095)"
      ]
     },
     "execution_count": 9,
     "metadata": {},
     "output_type": "execute_result"
    }
   ],
   "source": [
    "stats.ttest_1samp(data, 1) "
   ]
  },
  {
   "cell_type": "code",
   "execution_count": 10,
   "metadata": {},
   "outputs": [
    {
     "data": {
      "text/plain": [
       "TtestResult(statistic=270.36086994977654, pvalue=0.0, df=73095)"
      ]
     },
     "execution_count": 10,
     "metadata": {},
     "output_type": "execute_result"
    }
   ],
   "source": [
    "data2 = bank_dataset['y']\n",
    "stats.ttest_1samp(data2, 0)"
   ]
  }
 ],
 "metadata": {
  "kernelspec": {
   "display_name": "env",
   "language": "python",
   "name": "python3"
  },
  "language_info": {
   "codemirror_mode": {
    "name": "ipython",
    "version": 3
   },
   "file_extension": ".py",
   "mimetype": "text/x-python",
   "name": "python",
   "nbconvert_exporter": "python",
   "pygments_lexer": "ipython3",
   "version": "3.12.2"
  }
 },
 "nbformat": 4,
 "nbformat_minor": 2
}
